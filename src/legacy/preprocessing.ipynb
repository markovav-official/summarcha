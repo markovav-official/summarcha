{
 "cells": [
  {
   "cell_type": "code",
   "execution_count": 2,
   "metadata": {},
   "outputs": [],
   "source": [
    "import re\n",
    "import nltk\n",
    "import faker\n",
    "import torch\n",
    "import torch.nn as nn\n",
    "import torch.nn.functional as F\n",
    "import pandas as pd\n",
    "import numpy as np\n",
    "import warnings\n",
    "warnings.filterwarnings('ignore')"
   ]
  },
  {
   "cell_type": "code",
   "execution_count": 3,
   "metadata": {},
   "outputs": [],
   "source": [
    "zoo_v6_chat_id = -1001080678305"
   ]
  },
  {
   "cell_type": "code",
   "execution_count": 4,
   "metadata": {},
   "outputs": [],
   "source": [
    "messages = pd.read_json(\"datasets/translated_messages.json\")"
   ]
  },
  {
   "cell_type": "code",
   "execution_count": 5,
   "metadata": {},
   "outputs": [
    {
     "data": {
      "text/plain": [
       "1000"
      ]
     },
     "execution_count": 5,
     "metadata": {},
     "output_type": "execute_result"
    }
   ],
   "source": [
    "len(messages)"
   ]
  },
  {
   "cell_type": "code",
   "execution_count": 7,
   "metadata": {},
   "outputs": [],
   "source": [
    "# remove messages with no text\n",
    "messages = messages[messages.text.notnull()]\n",
    "# remove messages where text starts with '/'\n",
    "messages = messages[~messages[\"text\"].str.startswith(\"/\")]\n",
    "# remove messages via bot\n",
    "messages = messages[~messages[\"via_bot\"].notnull()]\n",
    "# drop columns\n",
    "messages.drop(['audio', 'media_group_id', 'video_note', 'voice', 'poll', 'video', 'web_page', 'reply_markup', 'caption_entities', 'service',\n",
    "               'via_bot', 'has_media_spoiler', 'photo', 'sticker', 'animation', 'document', 'scheduled', 'from_scheduled', 'has_protected_content',\n",
    "               'entities', 'media', 'new_chat_members', 'forward_from', 'forwarded_from_chat', 'caption'],\n",
    "              inplace=True, axis=1, errors='ignore')"
   ]
  },
  {
   "cell_type": "code",
   "execution_count": 8,
   "metadata": {},
   "outputs": [],
   "source": [
    "def reactions_to_count(x):\n",
    "    return sum(r[\"count\"] for r in x[\"reactions\"]) if x is not None and x is not np.nan else 0\n",
    "\n",
    "\n",
    "messages[\"reactions_count\"] = messages[\"reactions\"].apply(reactions_to_count)"
   ]
  },
  {
   "cell_type": "code",
   "execution_count": 9,
   "metadata": {},
   "outputs": [],
   "source": [
    "messages[\"author_id\"] = messages[\"from_user\"].apply(lambda x: x[\"id\"])\n",
    "messages[\"author_username\"] = messages[\"from_user\"].apply(lambda x: x[\"username\"])"
   ]
  },
  {
   "cell_type": "code",
   "execution_count": null,
   "metadata": {},
   "outputs": [],
   "source": [
    "messages[messages['reactions_count'] > 0].sort_values(\n",
    "    by='reactions_count', ascending=False)[['text', 'reactions_count']]"
   ]
  },
  {
   "cell_type": "code",
   "execution_count": null,
   "metadata": {},
   "outputs": [],
   "source": [
    "messages.head(5)"
   ]
  },
  {
   "cell_type": "code",
   "execution_count": 12,
   "metadata": {},
   "outputs": [],
   "source": [
    "train = messages[['text', 'author_username', 'author_id', 'reactions_count']]"
   ]
  },
  {
   "cell_type": "code",
   "execution_count": 13,
   "metadata": {},
   "outputs": [],
   "source": [
    "def preproccess_text(text):\n",
    "    # remove links\n",
    "    text = re.sub(r'http\\S+', ' ', text)\n",
    "    text = re.sub(r'\\d+', ' ', text)\n",
    "    text = re.sub(r'[^\\w|\\s]+', ' ', text)\n",
    "    text = re.sub('\\s+', ' ', text).strip()\n",
    "    return text.lower()\n",
    "\n",
    "train['text'] = train['text'].apply(preproccess_text)\n",
    "# remove empty messages\n",
    "train = train[train['text'].str.len() > 1]"
   ]
  },
  {
   "cell_type": "code",
   "execution_count": 14,
   "metadata": {},
   "outputs": [],
   "source": [
    "def transform_to_input(train_messages: pd.DataFrame):\n",
    "    # format \"fake_name: message\"\n",
    "    unique_users = train_messages['author_username'].unique()\n",
    "    fake = faker.Faker()\n",
    "    fake_names = [fake.first_name() for i in range(len(unique_users))]\n",
    "    fake_names_map = dict(zip(unique_users, fake_names))\n",
    "    train_messages['author_fakename'] = train_messages['author_username'].map(fake_names_map)\n",
    "    train_messages['combined'] = train_messages['author_fakename'] + \": \" + train_messages['text']\n",
    "    return '\\n'.join(train_messages['combined'].values)\n"
   ]
  },
  {
   "cell_type": "code",
   "execution_count": 16,
   "metadata": {},
   "outputs": [
    {
     "name": "stdout",
     "output_type": "stream",
     "text": [
      "Olivia: if someone s ndcg output was and not please tell me what exactly was wrong\n",
      "Taylor: wrong promtp in chatgpt\n",
      "Jennifer: i had something like that i took prel in the formula not from the previous one i but from i\n",
      "Michael: i think another task\n",
      "Jennifer: ahh that s right\n",
      "Jennifer: well then i thought idcg wrong\n",
      "Jennifer: i just had all kinds of mistakes\n",
      "Olivia: thank you i ll try it\n",
      "Michael: quiz on ir tomorrow\n",
      "Michael: i see thanks\n",
      "Tamara: so or in the end\n",
      "Robert: isn t it\n",
      "Cathy: in moodle\n",
      "Michelle: oops by chance it went forward to september\n",
      "Christopher: who is retaking the axis is there any information on where the retake will take place\n"
     ]
    }
   ],
   "source": [
    "print(transform_to_input(train[15:0:-1]))"
   ]
  }
 ],
 "metadata": {
  "kernelspec": {
   "display_name": "venv",
   "language": "python",
   "name": "python3"
  },
  "language_info": {
   "codemirror_mode": {
    "name": "ipython",
    "version": 3
   },
   "file_extension": ".py",
   "mimetype": "text/x-python",
   "name": "python",
   "nbconvert_exporter": "python",
   "pygments_lexer": "ipython3",
   "version": "3.11.0"
  }
 },
 "nbformat": 4,
 "nbformat_minor": 2
}
